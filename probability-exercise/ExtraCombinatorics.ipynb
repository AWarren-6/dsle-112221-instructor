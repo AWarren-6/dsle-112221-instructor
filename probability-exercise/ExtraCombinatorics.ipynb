{
 "cells": [
  {
   "cell_type": "markdown",
   "id": "e9a4ca17-bf57-49f9-b984-3b68d3fc3cfd",
   "metadata": {},
   "source": [
    "# You are creating a 4-digit pin code. How many choices are there in the following cases?"
   ]
  },
  {
   "cell_type": "markdown",
   "id": "237b0991-89c9-4271-b991-b8fa859a48be",
   "metadata": {},
   "source": [
    "## (a) With no restriction."
   ]
  },
  {
   "cell_type": "code",
   "execution_count": null,
   "id": "7704689e-4584-4478-b0a3-5ea573c4d48e",
   "metadata": {},
   "outputs": [],
   "source": []
  },
  {
   "cell_type": "markdown",
   "id": "085e6c28-05a1-486b-bc38-41674ea42a95",
   "metadata": {},
   "source": [
    "## (b) No digit is repeated."
   ]
  },
  {
   "cell_type": "code",
   "execution_count": null,
   "id": "12b3c9de-5bdd-4b56-b6fd-394001afffb8",
   "metadata": {},
   "outputs": [],
   "source": []
  },
  {
   "cell_type": "markdown",
   "id": "ea7983d3-1641-4272-bc4d-3db6981e34a9",
   "metadata": {},
   "source": [
    "## (c) No digit is repeated, digit number 3 is a 0."
   ]
  },
  {
   "cell_type": "code",
   "execution_count": null,
   "id": "15937fe8-ebd0-4cbf-ae9d-04ba37c06879",
   "metadata": {},
   "outputs": [],
   "source": []
  },
  {
   "cell_type": "markdown",
   "id": "de3363ef-408b-4ef1-b037-1316324eecda",
   "metadata": {},
   "source": [
    "## (d) No digit is repeated, and they must appear in increasing order."
   ]
  },
  {
   "cell_type": "code",
   "execution_count": null,
   "id": "97b31ac9-75f5-4ef9-99a9-1dd7372a98a1",
   "metadata": {},
   "outputs": [],
   "source": []
  },
  {
   "cell_type": "markdown",
   "id": "47c593c2-45dd-4c3f-bd3f-8f432bce070b",
   "metadata": {},
   "source": [
    "## (e) No digit is repeated, 2 and 5 must be present"
   ]
  },
  {
   "cell_type": "code",
   "execution_count": null,
   "id": "35ff1af7-5c1d-4af1-93ed-fa627eb25f4a",
   "metadata": {},
   "outputs": [],
   "source": []
  },
  {
   "cell_type": "markdown",
   "id": "ed7e49be-3dfc-4cea-8a34-fdfea3c89041",
   "metadata": {},
   "source": [
    "# You have five cards in your hand labelled A, B, C, D, E. How many possible hands are there in each of the following cases?"
   ]
  },
  {
   "cell_type": "markdown",
   "id": "35373c71-1631-4411-8c79-3e23048ad35b",
   "metadata": {},
   "source": [
    "## (a) with no restriction"
   ]
  },
  {
   "cell_type": "code",
   "execution_count": null,
   "id": "c474a008-374e-4eb2-bc77-a72be6b54ee7",
   "metadata": {},
   "outputs": [],
   "source": []
  },
  {
   "cell_type": "markdown",
   "id": "24b9074f-ea23-49a0-9b19-1a9e1472b6b9",
   "metadata": {},
   "source": [
    "## (b) if you remove A from your hand"
   ]
  },
  {
   "cell_type": "code",
   "execution_count": null,
   "id": "ee93060f-e1c6-4b18-a279-34027d95cacf",
   "metadata": {},
   "outputs": [],
   "source": []
  },
  {
   "cell_type": "markdown",
   "id": "92020c5e-c7b3-4e82-ac1e-d8c908d7650b",
   "metadata": {},
   "source": [
    "## (c) if A cannot be on top of B"
   ]
  },
  {
   "cell_type": "code",
   "execution_count": null,
   "id": "b5b4bade-a33a-4aa1-8095-1134f91dda7c",
   "metadata": {},
   "outputs": [],
   "source": []
  },
  {
   "cell_type": "markdown",
   "id": "08f497db-7a9a-415d-919b-55b4831d413b",
   "metadata": {},
   "source": [
    "## (d) if E cannot be below D"
   ]
  },
  {
   "cell_type": "code",
   "execution_count": null,
   "id": "15a86de7-0d47-480b-a784-9609e915458b",
   "metadata": {},
   "outputs": [],
   "source": []
  },
  {
   "cell_type": "markdown",
   "id": "752a3219-c584-47f5-ae20-680bf14a9234",
   "metadata": {},
   "source": [
    "## (e) if A cannot be on top of B and E cannot be below D"
   ]
  },
  {
   "cell_type": "code",
   "execution_count": null,
   "id": "2431406d-a5c7-43ca-bceb-1797c377161f",
   "metadata": {},
   "outputs": [],
   "source": []
  }
 ],
 "metadata": {
  "kernelspec": {
   "display_name": "Python 3",
   "language": "python",
   "name": "python3"
  },
  "language_info": {
   "codemirror_mode": {
    "name": "ipython",
    "version": 3
   },
   "file_extension": ".py",
   "mimetype": "text/x-python",
   "name": "python",
   "nbconvert_exporter": "python",
   "pygments_lexer": "ipython3",
   "version": "3.8.8"
  }
 },
 "nbformat": 4,
 "nbformat_minor": 5
}
